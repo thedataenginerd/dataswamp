{
 "cells": [
  {
   "cell_type": "markdown",
   "metadata": {
    "dc": {
     "key": "3"
    },
    "deletable": false,
    "editable": false,
    "run_control": {
     "frozen": true
    },
    "tags": [
     "context"
    ]
   },
   "source": [
    "## # Introduction\n",
    "<p><img src=\"https://assets.datacamp.com/production/project_981/img/lego_unsplash.jpg\" alt=\"A picture of Lego characters!\"></p>\n",
    "<h3 id=\"letslookatlegosets\">Let's look at Lego sets!</h3>\n",
    "<p>Lego is a household name across the world, supported by a diverse toy line, hit movies, and a series of successful video games. In this project, we are going to explore a key development in the history of Lego: the introduction of licensed sets such as Star Wars, Super Heroes, and Harry Potter.</p>\n",
    "<p>It may not be widely known, but Lego has had its share of ups and downs since its inception in the early 20th century. This includes a particularly rough period in the late 90s. As described in <a href=\"https://www.businessinsider.com/how-lego-made-a-huge-turnaround-2014-2?r=US&IR=T\">this article</a>, Lego was only able to survive due to a successful internal brand (Bionicle) and the introduction of its first licensed series: Star Wars. In the instructions panel are the two questions you will need to answer to complete this project.</p>\n",
    "<p>Before diving into our analysis though, let's become familiar with the two datasets that will help you with this project:<br><br></p>\n",
    "<div style=\"background-color: #ebf4f7; color: #595959; text-align:left; vertical-align: middle; padding: 15px 25px 15px 25px; line-height: 1.6;\">\n",
    "    <div style=\"font-size:20px\"><b>datasets/lego_sets.csv</b></div>\n",
    "<ul>\n",
    "    <li><b>set_num:</b> A code that is unique to each set in the dataset. <b><i>This column is critical, and a missing value indicates the set is a duplicate or invalid!</i></b></li>\n",
    "    <li><b>set_name:</b> A name for every set in the dataset (note that this can be the same for different sets).</li>\n",
    "    <li><b>year:</b> The date the set was released.</li>\n",
    "    <li><b>num_parts:</b> The number of parts contained in the set.<b><i> This column is not central to our analyses, so missing values are acceptable.</i></b></li>\n",
    "        <li><b>theme_name:</b> The name of the sub-theme of the set.</li>\n",
    "    <li><b>parent_theme:</b> The name of the parent theme the set belongs to. Matches the `name` column of the `parent_themes` csv file.</li>\n",
    "</ul>\n",
    "\n",
    "<div style=\"font-size:20px\"><b>datasets/parent_themes.csv</b></div>\n",
    "<ul>\n",
    "    <li><b>id:</b> A code that is unique to every theme.</li>\n",
    "    <li><b>name:</b> The name of the parent theme.</li>\n",
    "    <li><b>is_licensed:</b> A Boolean column specifying whether the theme is a licensed theme.</li>\n",
    "</ul>\n",
    "    </div>\n",
    "<p>From here on out, it will be your task to explore and manipulate the existing data until you are able to answer the two questions described in the instructions panel. Feel free to add as many cells as necessary. Finally, remember that you are only tested on your answer, not on the methods you use to arrive at the answer!</p>\n",
    "<p><em><strong>Note:</strong> If you haven't completed a DataCamp project before you should check out the <a href=\"https://projects.datacamp.com/projects/33\">Intro to Projects</a> first to learn about the interface. In this project, you also need to know your way around <code>pandas</code> DataFrames and it's recommended that you take a look at the course <a href=\"https://www.datacamp.com/courses/data-manipulation-with-pandas\">Data Manipulation with pandas</a>.</em></p>"
   ]
  },
  {
   "cell_type": "code",
   "execution_count": 2,
   "metadata": {
    "dc": {
     "key": "3"
    },
    "tags": [
     "sample_code"
    ]
   },
   "outputs": [],
   "source": [
    "import pandas as pd"
   ]
  },
  {
   "cell_type": "code",
   "execution_count": 214,
   "metadata": {},
   "outputs": [],
   "source": [
    "legos = pd.read_csv(\"datasets/lego_sets.csv\")"
   ]
  },
  {
   "cell_type": "code",
   "execution_count": 109,
   "metadata": {},
   "outputs": [
    {
     "data": {
      "text/html": [
       "<div>\n",
       "<style scoped>\n",
       "    .dataframe tbody tr th:only-of-type {\n",
       "        vertical-align: middle;\n",
       "    }\n",
       "\n",
       "    .dataframe tbody tr th {\n",
       "        vertical-align: top;\n",
       "    }\n",
       "\n",
       "    .dataframe thead th {\n",
       "        text-align: right;\n",
       "    }\n",
       "</style>\n",
       "<table border=\"1\" class=\"dataframe\">\n",
       "  <thead>\n",
       "    <tr style=\"text-align: right;\">\n",
       "      <th></th>\n",
       "      <th>set_num</th>\n",
       "      <th>name</th>\n",
       "      <th>year</th>\n",
       "      <th>num_parts</th>\n",
       "      <th>theme_name</th>\n",
       "      <th>parent_theme</th>\n",
       "    </tr>\n",
       "  </thead>\n",
       "  <tbody>\n",
       "    <tr>\n",
       "      <th>0</th>\n",
       "      <td>00-1</td>\n",
       "      <td>Weetabix Castle</td>\n",
       "      <td>1970</td>\n",
       "      <td>471.0</td>\n",
       "      <td>Castle</td>\n",
       "      <td>Legoland</td>\n",
       "    </tr>\n",
       "    <tr>\n",
       "      <th>1</th>\n",
       "      <td>0011-2</td>\n",
       "      <td>Town Mini-Figures</td>\n",
       "      <td>1978</td>\n",
       "      <td>NaN</td>\n",
       "      <td>Supplemental</td>\n",
       "      <td>Town</td>\n",
       "    </tr>\n",
       "    <tr>\n",
       "      <th>2</th>\n",
       "      <td>0011-3</td>\n",
       "      <td>Castle 2 for 1 Bonus Offer</td>\n",
       "      <td>1987</td>\n",
       "      <td>NaN</td>\n",
       "      <td>Lion Knights</td>\n",
       "      <td>Castle</td>\n",
       "    </tr>\n",
       "    <tr>\n",
       "      <th>3</th>\n",
       "      <td>0012-1</td>\n",
       "      <td>Space Mini-Figures</td>\n",
       "      <td>1979</td>\n",
       "      <td>12.0</td>\n",
       "      <td>Supplemental</td>\n",
       "      <td>Space</td>\n",
       "    </tr>\n",
       "    <tr>\n",
       "      <th>4</th>\n",
       "      <td>0013-1</td>\n",
       "      <td>Space Mini-Figures</td>\n",
       "      <td>1979</td>\n",
       "      <td>12.0</td>\n",
       "      <td>Supplemental</td>\n",
       "      <td>Space</td>\n",
       "    </tr>\n",
       "  </tbody>\n",
       "</table>\n",
       "</div>"
      ],
      "text/plain": [
       "  set_num                        name  year  num_parts    theme_name  \\\n",
       "0    00-1             Weetabix Castle  1970      471.0        Castle   \n",
       "1  0011-2           Town Mini-Figures  1978        NaN  Supplemental   \n",
       "2  0011-3  Castle 2 for 1 Bonus Offer  1987        NaN  Lion Knights   \n",
       "3  0012-1          Space Mini-Figures  1979       12.0  Supplemental   \n",
       "4  0013-1          Space Mini-Figures  1979       12.0  Supplemental   \n",
       "\n",
       "  parent_theme  \n",
       "0     Legoland  \n",
       "1         Town  \n",
       "2       Castle  \n",
       "3        Space  \n",
       "4        Space  "
      ]
     },
     "execution_count": 109,
     "metadata": {},
     "output_type": "execute_result"
    }
   ],
   "source": [
    "legos.head()"
   ]
  },
  {
   "cell_type": "code",
   "execution_count": 110,
   "metadata": {},
   "outputs": [
    {
     "name": "stdout",
     "output_type": "stream",
     "text": [
      "<class 'pandas.core.frame.DataFrame'>\n",
      "RangeIndex: 11986 entries, 0 to 11985\n",
      "Data columns (total 6 columns):\n",
      " #   Column        Non-Null Count  Dtype  \n",
      "---  ------        --------------  -----  \n",
      " 0   set_num       11833 non-null  object \n",
      " 1   name          11833 non-null  object \n",
      " 2   year          11986 non-null  int64  \n",
      " 3   num_parts     6926 non-null   float64\n",
      " 4   theme_name    11833 non-null  object \n",
      " 5   parent_theme  11986 non-null  object \n",
      "dtypes: float64(1), int64(1), object(4)\n",
      "memory usage: 562.0+ KB\n"
     ]
    }
   ],
   "source": [
    "legos.info()"
   ]
  },
  {
   "cell_type": "code",
   "execution_count": 111,
   "metadata": {},
   "outputs": [
    {
     "data": {
      "text/plain": [
       "set_num         11833\n",
       "name            10512\n",
       "year               66\n",
       "num_parts         898\n",
       "theme_name        390\n",
       "parent_theme      109\n",
       "dtype: int64"
      ]
     },
     "execution_count": 111,
     "metadata": {},
     "output_type": "execute_result"
    }
   ],
   "source": [
    "legos.nunique()"
   ]
  },
  {
   "cell_type": "code",
   "execution_count": 112,
   "metadata": {},
   "outputs": [],
   "source": [
    "legos[\"year\"] = legos[\"year\"].astype(\"category\")\n",
    "legos[\"theme_name\"] = legos[\"theme_name\"].astype(\"category\")\n",
    "legos[\"parent_theme\"] = legos[\"parent_theme\"].astype(\"category\")"
   ]
  },
  {
   "cell_type": "code",
   "execution_count": 113,
   "metadata": {},
   "outputs": [
    {
     "name": "stdout",
     "output_type": "stream",
     "text": [
      "<class 'pandas.core.frame.DataFrame'>\n",
      "RangeIndex: 11986 entries, 0 to 11985\n",
      "Data columns (total 6 columns):\n",
      " #   Column        Non-Null Count  Dtype   \n",
      "---  ------        --------------  -----   \n",
      " 0   set_num       11833 non-null  object  \n",
      " 1   name          11833 non-null  object  \n",
      " 2   year          11986 non-null  category\n",
      " 3   num_parts     6926 non-null   float64 \n",
      " 4   theme_name    11833 non-null  category\n",
      " 5   parent_theme  11986 non-null  category\n",
      "dtypes: category(3), float64(1), object(2)\n",
      "memory usage: 346.5+ KB\n"
     ]
    }
   ],
   "source": [
    "legos.info()"
   ]
  },
  {
   "cell_type": "code",
   "execution_count": 134,
   "metadata": {},
   "outputs": [],
   "source": [
    "legos = legos.dropna(subset=[\"set_num\"])"
   ]
  },
  {
   "cell_type": "code",
   "execution_count": 135,
   "metadata": {},
   "outputs": [],
   "source": [
    "parent_themes = pd.read_csv(\"datasets/parent_themes.csv\")"
   ]
  },
  {
   "cell_type": "code",
   "execution_count": 136,
   "metadata": {},
   "outputs": [
    {
     "data": {
      "text/html": [
       "<div>\n",
       "<style scoped>\n",
       "    .dataframe tbody tr th:only-of-type {\n",
       "        vertical-align: middle;\n",
       "    }\n",
       "\n",
       "    .dataframe tbody tr th {\n",
       "        vertical-align: top;\n",
       "    }\n",
       "\n",
       "    .dataframe thead th {\n",
       "        text-align: right;\n",
       "    }\n",
       "</style>\n",
       "<table border=\"1\" class=\"dataframe\">\n",
       "  <thead>\n",
       "    <tr style=\"text-align: right;\">\n",
       "      <th></th>\n",
       "      <th>id</th>\n",
       "      <th>name</th>\n",
       "      <th>is_licensed</th>\n",
       "    </tr>\n",
       "  </thead>\n",
       "  <tbody>\n",
       "    <tr>\n",
       "      <th>0</th>\n",
       "      <td>1</td>\n",
       "      <td>Technic</td>\n",
       "      <td>False</td>\n",
       "    </tr>\n",
       "    <tr>\n",
       "      <th>1</th>\n",
       "      <td>22</td>\n",
       "      <td>Creator</td>\n",
       "      <td>False</td>\n",
       "    </tr>\n",
       "    <tr>\n",
       "      <th>2</th>\n",
       "      <td>50</td>\n",
       "      <td>Town</td>\n",
       "      <td>False</td>\n",
       "    </tr>\n",
       "    <tr>\n",
       "      <th>3</th>\n",
       "      <td>112</td>\n",
       "      <td>Racers</td>\n",
       "      <td>False</td>\n",
       "    </tr>\n",
       "    <tr>\n",
       "      <th>4</th>\n",
       "      <td>126</td>\n",
       "      <td>Space</td>\n",
       "      <td>False</td>\n",
       "    </tr>\n",
       "  </tbody>\n",
       "</table>\n",
       "</div>"
      ],
      "text/plain": [
       "    id     name  is_licensed\n",
       "0    1  Technic        False\n",
       "1   22  Creator        False\n",
       "2   50     Town        False\n",
       "3  112   Racers        False\n",
       "4  126    Space        False"
      ]
     },
     "execution_count": 136,
     "metadata": {},
     "output_type": "execute_result"
    }
   ],
   "source": [
    "parent_themes.head()"
   ]
  },
  {
   "cell_type": "code",
   "execution_count": 137,
   "metadata": {},
   "outputs": [
    {
     "name": "stdout",
     "output_type": "stream",
     "text": [
      "<class 'pandas.core.frame.DataFrame'>\n",
      "RangeIndex: 111 entries, 0 to 110\n",
      "Data columns (total 3 columns):\n",
      " #   Column       Non-Null Count  Dtype \n",
      "---  ------       --------------  ----- \n",
      " 0   id           111 non-null    int64 \n",
      " 1   name         111 non-null    object\n",
      " 2   is_licensed  111 non-null    bool  \n",
      "dtypes: bool(1), int64(1), object(1)\n",
      "memory usage: 2.0+ KB\n"
     ]
    }
   ],
   "source": [
    "parent_themes.info()"
   ]
  },
  {
   "cell_type": "code",
   "execution_count": 138,
   "metadata": {},
   "outputs": [
    {
     "data": {
      "text/plain": [
       "id             111\n",
       "name           111\n",
       "is_licensed      2\n",
       "dtype: int64"
      ]
     },
     "execution_count": 138,
     "metadata": {},
     "output_type": "execute_result"
    }
   ],
   "source": [
    "parent_themes.nunique()"
   ]
  },
  {
   "cell_type": "code",
   "execution_count": 217,
   "metadata": {},
   "outputs": [],
   "source": [
    "merged_df = pd.merge(\n",
    "    legos,\n",
    "    parent_themes,\n",
    "    left_on=\"parent_theme\",\n",
    "    right_on=\"name\"\n",
    ")"
   ]
  },
  {
   "cell_type": "code",
   "execution_count": 140,
   "metadata": {},
   "outputs": [
    {
     "data": {
      "text/html": [
       "<div>\n",
       "<style scoped>\n",
       "    .dataframe tbody tr th:only-of-type {\n",
       "        vertical-align: middle;\n",
       "    }\n",
       "\n",
       "    .dataframe tbody tr th {\n",
       "        vertical-align: top;\n",
       "    }\n",
       "\n",
       "    .dataframe thead th {\n",
       "        text-align: right;\n",
       "    }\n",
       "</style>\n",
       "<table border=\"1\" class=\"dataframe\">\n",
       "  <thead>\n",
       "    <tr style=\"text-align: right;\">\n",
       "      <th></th>\n",
       "      <th>set_num</th>\n",
       "      <th>name_x</th>\n",
       "      <th>year</th>\n",
       "      <th>num_parts</th>\n",
       "      <th>theme_name</th>\n",
       "      <th>parent_theme</th>\n",
       "      <th>id</th>\n",
       "      <th>name_y</th>\n",
       "      <th>is_licensed</th>\n",
       "    </tr>\n",
       "  </thead>\n",
       "  <tbody>\n",
       "    <tr>\n",
       "      <th>0</th>\n",
       "      <td>00-1</td>\n",
       "      <td>Weetabix Castle</td>\n",
       "      <td>1970</td>\n",
       "      <td>471.0</td>\n",
       "      <td>Castle</td>\n",
       "      <td>Legoland</td>\n",
       "      <td>411</td>\n",
       "      <td>Legoland</td>\n",
       "      <td>False</td>\n",
       "    </tr>\n",
       "    <tr>\n",
       "      <th>1</th>\n",
       "      <td>00-2</td>\n",
       "      <td>Weetabix Promotional House 1</td>\n",
       "      <td>1976</td>\n",
       "      <td>NaN</td>\n",
       "      <td>Building</td>\n",
       "      <td>Legoland</td>\n",
       "      <td>411</td>\n",
       "      <td>Legoland</td>\n",
       "      <td>False</td>\n",
       "    </tr>\n",
       "    <tr>\n",
       "      <th>2</th>\n",
       "      <td>00-3</td>\n",
       "      <td>Weetabix Promotional House 2</td>\n",
       "      <td>1976</td>\n",
       "      <td>NaN</td>\n",
       "      <td>Building</td>\n",
       "      <td>Legoland</td>\n",
       "      <td>411</td>\n",
       "      <td>Legoland</td>\n",
       "      <td>False</td>\n",
       "    </tr>\n",
       "    <tr>\n",
       "      <th>3</th>\n",
       "      <td>00-4</td>\n",
       "      <td>Weetabix Promotional Windmill</td>\n",
       "      <td>1976</td>\n",
       "      <td>126.0</td>\n",
       "      <td>Building</td>\n",
       "      <td>Legoland</td>\n",
       "      <td>411</td>\n",
       "      <td>Legoland</td>\n",
       "      <td>False</td>\n",
       "    </tr>\n",
       "    <tr>\n",
       "      <th>4</th>\n",
       "      <td>00-7</td>\n",
       "      <td>Weetabix Promotional Lego Village</td>\n",
       "      <td>1976</td>\n",
       "      <td>NaN</td>\n",
       "      <td>Building</td>\n",
       "      <td>Legoland</td>\n",
       "      <td>411</td>\n",
       "      <td>Legoland</td>\n",
       "      <td>False</td>\n",
       "    </tr>\n",
       "  </tbody>\n",
       "</table>\n",
       "</div>"
      ],
      "text/plain": [
       "  set_num                             name_x  year  num_parts theme_name  \\\n",
       "0    00-1                    Weetabix Castle  1970      471.0     Castle   \n",
       "1    00-2       Weetabix Promotional House 1  1976        NaN   Building   \n",
       "2    00-3       Weetabix Promotional House 2  1976        NaN   Building   \n",
       "3    00-4      Weetabix Promotional Windmill  1976      126.0   Building   \n",
       "4    00-7  Weetabix Promotional Lego Village  1976        NaN   Building   \n",
       "\n",
       "  parent_theme   id    name_y  is_licensed  \n",
       "0     Legoland  411  Legoland        False  \n",
       "1     Legoland  411  Legoland        False  \n",
       "2     Legoland  411  Legoland        False  \n",
       "3     Legoland  411  Legoland        False  \n",
       "4     Legoland  411  Legoland        False  "
      ]
     },
     "execution_count": 140,
     "metadata": {},
     "output_type": "execute_result"
    }
   ],
   "source": [
    "merged_df.head()"
   ]
  },
  {
   "cell_type": "code",
   "execution_count": 154,
   "metadata": {},
   "outputs": [],
   "source": [
    "merged_df = merged_df.drop(columns=[\"name_y\"])"
   ]
  },
  {
   "cell_type": "code",
   "execution_count": 142,
   "metadata": {},
   "outputs": [],
   "source": [
    "licensed_themes = merged_df[merged_df[\"is_licensed\"]]"
   ]
  },
  {
   "cell_type": "code",
   "execution_count": 155,
   "metadata": {},
   "outputs": [
    {
     "data": {
      "text/html": [
       "<div>\n",
       "<style scoped>\n",
       "    .dataframe tbody tr th:only-of-type {\n",
       "        vertical-align: middle;\n",
       "    }\n",
       "\n",
       "    .dataframe tbody tr th {\n",
       "        vertical-align: top;\n",
       "    }\n",
       "\n",
       "    .dataframe thead th {\n",
       "        text-align: right;\n",
       "    }\n",
       "</style>\n",
       "<table border=\"1\" class=\"dataframe\">\n",
       "  <thead>\n",
       "    <tr style=\"text-align: right;\">\n",
       "      <th></th>\n",
       "      <th>set_num</th>\n",
       "      <th>name_x</th>\n",
       "      <th>year</th>\n",
       "      <th>num_parts</th>\n",
       "      <th>theme_name</th>\n",
       "      <th>parent_theme</th>\n",
       "      <th>id</th>\n",
       "      <th>is_licensed</th>\n",
       "    </tr>\n",
       "  </thead>\n",
       "  <tbody>\n",
       "    <tr>\n",
       "      <th>3493</th>\n",
       "      <td>10018-1</td>\n",
       "      <td>Darth Maul</td>\n",
       "      <td>2001</td>\n",
       "      <td>1868.0</td>\n",
       "      <td>Star Wars</td>\n",
       "      <td>Star Wars</td>\n",
       "      <td>158</td>\n",
       "      <td>True</td>\n",
       "    </tr>\n",
       "    <tr>\n",
       "      <th>3494</th>\n",
       "      <td>10019-1</td>\n",
       "      <td>Rebel Blockade Runner - UCS</td>\n",
       "      <td>2001</td>\n",
       "      <td>NaN</td>\n",
       "      <td>Star Wars Episode 4/5/6</td>\n",
       "      <td>Star Wars</td>\n",
       "      <td>158</td>\n",
       "      <td>True</td>\n",
       "    </tr>\n",
       "    <tr>\n",
       "      <th>3495</th>\n",
       "      <td>10026-1</td>\n",
       "      <td>Naboo Starfighter - UCS</td>\n",
       "      <td>2002</td>\n",
       "      <td>NaN</td>\n",
       "      <td>Star Wars Episode 1</td>\n",
       "      <td>Star Wars</td>\n",
       "      <td>158</td>\n",
       "      <td>True</td>\n",
       "    </tr>\n",
       "    <tr>\n",
       "      <th>3496</th>\n",
       "      <td>10030-1</td>\n",
       "      <td>Imperial Star Destroyer - UCS</td>\n",
       "      <td>2002</td>\n",
       "      <td>3115.0</td>\n",
       "      <td>Star Wars Episode 4/5/6</td>\n",
       "      <td>Star Wars</td>\n",
       "      <td>158</td>\n",
       "      <td>True</td>\n",
       "    </tr>\n",
       "    <tr>\n",
       "      <th>3497</th>\n",
       "      <td>10123-1</td>\n",
       "      <td>Cloud City</td>\n",
       "      <td>2003</td>\n",
       "      <td>707.0</td>\n",
       "      <td>Star Wars Episode 4/5/6</td>\n",
       "      <td>Star Wars</td>\n",
       "      <td>158</td>\n",
       "      <td>True</td>\n",
       "    </tr>\n",
       "    <tr>\n",
       "      <th>...</th>\n",
       "      <td>...</td>\n",
       "      <td>...</td>\n",
       "      <td>...</td>\n",
       "      <td>...</td>\n",
       "      <td>...</td>\n",
       "      <td>...</td>\n",
       "      <td>...</td>\n",
       "      <td>...</td>\n",
       "    </tr>\n",
       "    <tr>\n",
       "      <th>11828</th>\n",
       "      <td>8410-1</td>\n",
       "      <td>Swampfire</td>\n",
       "      <td>2010</td>\n",
       "      <td>22.0</td>\n",
       "      <td>Ben 10</td>\n",
       "      <td>Ben 10</td>\n",
       "      <td>270</td>\n",
       "      <td>True</td>\n",
       "    </tr>\n",
       "    <tr>\n",
       "      <th>11829</th>\n",
       "      <td>8411-1</td>\n",
       "      <td>ChromaStone</td>\n",
       "      <td>2010</td>\n",
       "      <td>21.0</td>\n",
       "      <td>Ben 10</td>\n",
       "      <td>Ben 10</td>\n",
       "      <td>270</td>\n",
       "      <td>True</td>\n",
       "    </tr>\n",
       "    <tr>\n",
       "      <th>11830</th>\n",
       "      <td>8517-1</td>\n",
       "      <td>Humungousaur</td>\n",
       "      <td>2010</td>\n",
       "      <td>14.0</td>\n",
       "      <td>Ben 10</td>\n",
       "      <td>Ben 10</td>\n",
       "      <td>270</td>\n",
       "      <td>True</td>\n",
       "    </tr>\n",
       "    <tr>\n",
       "      <th>11831</th>\n",
       "      <td>8518-1</td>\n",
       "      <td>Jet Ray</td>\n",
       "      <td>2010</td>\n",
       "      <td>NaN</td>\n",
       "      <td>Ben 10</td>\n",
       "      <td>Ben 10</td>\n",
       "      <td>270</td>\n",
       "      <td>True</td>\n",
       "    </tr>\n",
       "    <tr>\n",
       "      <th>11832</th>\n",
       "      <td>8519-1</td>\n",
       "      <td>Big Chill</td>\n",
       "      <td>2010</td>\n",
       "      <td>20.0</td>\n",
       "      <td>Ben 10</td>\n",
       "      <td>Ben 10</td>\n",
       "      <td>270</td>\n",
       "      <td>True</td>\n",
       "    </tr>\n",
       "  </tbody>\n",
       "</table>\n",
       "<p>1179 rows × 8 columns</p>\n",
       "</div>"
      ],
      "text/plain": [
       "       set_num                         name_x  year  num_parts  \\\n",
       "3493   10018-1                     Darth Maul  2001     1868.0   \n",
       "3494   10019-1    Rebel Blockade Runner - UCS  2001        NaN   \n",
       "3495   10026-1        Naboo Starfighter - UCS  2002        NaN   \n",
       "3496   10030-1  Imperial Star Destroyer - UCS  2002     3115.0   \n",
       "3497   10123-1                     Cloud City  2003      707.0   \n",
       "...        ...                            ...   ...        ...   \n",
       "11828   8410-1                      Swampfire  2010       22.0   \n",
       "11829   8411-1                    ChromaStone  2010       21.0   \n",
       "11830   8517-1                   Humungousaur  2010       14.0   \n",
       "11831   8518-1                        Jet Ray  2010        NaN   \n",
       "11832   8519-1                      Big Chill  2010       20.0   \n",
       "\n",
       "                    theme_name parent_theme   id  is_licensed  \n",
       "3493                 Star Wars    Star Wars  158         True  \n",
       "3494   Star Wars Episode 4/5/6    Star Wars  158         True  \n",
       "3495       Star Wars Episode 1    Star Wars  158         True  \n",
       "3496   Star Wars Episode 4/5/6    Star Wars  158         True  \n",
       "3497   Star Wars Episode 4/5/6    Star Wars  158         True  \n",
       "...                        ...          ...  ...          ...  \n",
       "11828                   Ben 10       Ben 10  270         True  \n",
       "11829                   Ben 10       Ben 10  270         True  \n",
       "11830                   Ben 10       Ben 10  270         True  \n",
       "11831                   Ben 10       Ben 10  270         True  \n",
       "11832                   Ben 10       Ben 10  270         True  \n",
       "\n",
       "[1179 rows x 8 columns]"
      ]
     },
     "execution_count": 155,
     "metadata": {},
     "output_type": "execute_result"
    }
   ],
   "source": [
    "licensed_themes"
   ]
  },
  {
   "cell_type": "markdown",
   "metadata": {},
   "source": [
    "## 1. What percentage of all licensed sets ever released were Star Wars themed?"
   ]
  },
  {
   "cell_type": "code",
   "execution_count": 218,
   "metadata": {},
   "outputs": [
    {
     "data": {
      "text/plain": [
       "'51.65%'"
      ]
     },
     "execution_count": 218,
     "metadata": {},
     "output_type": "execute_result"
    }
   ],
   "source": [
    "f\"{(licensed_themes['parent_theme'] == 'Star Wars').value_counts(normalize='True').loc[True]:.2%}\""
   ]
  },
  {
   "cell_type": "markdown",
   "metadata": {},
   "source": [
    "## 2. In which year was Star Wars not the most popular licensed theme (in terms of number of sets released that year)?"
   ]
  },
  {
   "cell_type": "code",
   "execution_count": 210,
   "metadata": {},
   "outputs": [],
   "source": [
    "aggregated_df = licensed_themes.groupby(\n",
    "    [\"year\", \"parent_theme\"]\n",
    ").count().reset_index()"
   ]
  },
  {
   "cell_type": "code",
   "execution_count": 208,
   "metadata": {},
   "outputs": [],
   "source": [
    "yearly_most_popular = aggregated_df.sort_values(\n",
    "    [\"year\", \"name_x\"], ascending=[True, False]\n",
    ").drop_duplicates(subset=[\"year\"])"
   ]
  },
  {
   "cell_type": "code",
   "execution_count": 212,
   "metadata": {},
   "outputs": [
    {
     "data": {
      "text/html": [
       "<div>\n",
       "<style scoped>\n",
       "    .dataframe tbody tr th:only-of-type {\n",
       "        vertical-align: middle;\n",
       "    }\n",
       "\n",
       "    .dataframe tbody tr th {\n",
       "        vertical-align: top;\n",
       "    }\n",
       "\n",
       "    .dataframe thead th {\n",
       "        text-align: right;\n",
       "    }\n",
       "</style>\n",
       "<table border=\"1\" class=\"dataframe\">\n",
       "  <thead>\n",
       "    <tr style=\"text-align: right;\">\n",
       "      <th></th>\n",
       "      <th>year</th>\n",
       "      <th>parent_theme</th>\n",
       "    </tr>\n",
       "  </thead>\n",
       "  <tbody>\n",
       "    <tr>\n",
       "      <th>1447</th>\n",
       "      <td>2017</td>\n",
       "      <td>Super Heroes</td>\n",
       "    </tr>\n",
       "  </tbody>\n",
       "</table>\n",
       "</div>"
      ],
      "text/plain": [
       "      year  parent_theme\n",
       "1447  2017  Super Heroes"
      ]
     },
     "execution_count": 212,
     "metadata": {},
     "output_type": "execute_result"
    }
   ],
   "source": [
    "yearly_most_popular[\n",
    "    (yearly_most_popular[\"is_licensed\"] != 0) &\n",
    "    (yearly_most_popular[\"parent_theme\"] != \"Star Wars\")\n",
    "][[\"year\", \"parent_theme\"]]"
   ]
  }
 ],
 "metadata": {
  "kernelspec": {
   "display_name": "Python 3 (ipykernel)",
   "language": "python",
   "name": "python3"
  },
  "language_info": {
   "codemirror_mode": {
    "name": "ipython",
    "version": 3
   },
   "file_extension": ".py",
   "mimetype": "text/x-python",
   "name": "python",
   "nbconvert_exporter": "python",
   "pygments_lexer": "ipython3",
   "version": "3.10.7"
  }
 },
 "nbformat": 4,
 "nbformat_minor": 2
}
